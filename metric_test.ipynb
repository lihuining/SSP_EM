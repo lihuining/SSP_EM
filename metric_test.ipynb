{
 "cells": [
  {
   "cell_type": "code",
   "execution_count": 1,
   "metadata": {},
   "outputs": [],
   "source": [
    "import motmetrics as mm  # 导入该库\n",
    "import numpy as np"
   ]
  },
  {
   "cell_type": "markdown",
   "metadata": {},
   "source": [
    "使用这个库的流程就是，先导入两个txt文件（分别是GT和自己生成的结果，且都是标准的MOTChallenge格式，具体格式在MOTChallenge网站上有详细介绍），再创建accumulator，然后逐帧将每帧的GT和自己跟踪的结果（用hypotheses表示）填充至该accumulator中，然后使用度量器计算即可得到字符串summary，里面就是计算的结果，再将summary打印出来即可。"
   ]
  },
  {
   "cell_type": "code",
   "execution_count": 4,
   "metadata": {},
   "outputs": [
    {
     "name": "stdout",
     "output_type": "stream",
     "text": [
      "['idf1', 'idp', 'idr', 'recall', 'precision', 'num_unique_objects', 'mostly_tracked', 'partially_tracked', 'mostly_lost', 'num_false_positives', 'num_misses', 'num_switches', 'num_fragmentations', 'mota', 'motp', 'num_transfer', 'num_ascend', 'num_migrate']\n"
     ]
    }
   ],
   "source": [
    "metrics = list(mm.metrics.motchallenge_metrics)  # # 即支持的所有metrics的名字列表\n",
    "print(metrics)"
   ]
  },
  {
   "cell_type": "code",
   "execution_count": 5,
   "metadata": {},
   "outputs": [
    {
     "name": "stdout",
     "output_type": "stream",
     "text": [
      "                Type  OId  HId    D\n",
      "FrameId Event                      \n",
      "0       0        RAW  NaN  NaN  NaN\n",
      "        1        RAW  1.0  1.0  0.1\n",
      "        2        RAW  1.0  3.0  0.3\n",
      "        3        RAW  2.0  1.0  0.5\n",
      "        4        RAW  2.0  2.0  0.2\n",
      "        5        RAW  2.0  3.0  0.3\n",
      "        6      MATCH  1.0  1.0  0.1\n",
      "        7      MATCH  2.0  2.0  0.2\n",
      "        8         FP  NaN  3.0  NaN\n"
     ]
    }
   ],
   "source": [
    "acc = mm.MOTAccumulator(auto_id=True) # 创建accumulator\n",
    "# 用第一帧填充该accumulator\n",
    "acc.update(\n",
    "    [1, 2],                     # Ground truth objects in this frame\n",
    "    [1, 2, 3],                  # Detector hypotheses in this frame\n",
    "    [\n",
    "        [0.1, np.nan, 0.3],     # Distances from object 1 to hypotheses 1, 2, 3\n",
    "        [0.5,  0.2,   0.3]      # Distances from object 2 to hypotheses 1, 2, 3\n",
    "    ]\n",
    ")\n",
    "\n",
    "# 查看该帧的事件\n",
    "print(acc.events) # a pandas DataFrame containing all events"
   ]
  },
  {
   "cell_type": "code",
   "execution_count": 6,
   "metadata": {},
   "outputs": [
    {
     "name": "stdout",
     "output_type": "stream",
     "text": [
      "                Type  OId  HId    D\n",
      "FrameId Event                      \n",
      "0       6      MATCH  1.0  1.0  0.1\n",
      "        7      MATCH  2.0  2.0  0.2\n",
      "        8         FP  NaN  3.0  NaN\n"
     ]
    }
   ],
   "source": [
    "# 只查看MOT事件，不查看RAW\n",
    "print(acc.mot_events) # a pandas DataFrame containing MOT only events"
   ]
  },
  {
   "cell_type": "code",
   "execution_count": 7,
   "metadata": {},
   "outputs": [
    {
     "name": "stdout",
     "output_type": "stream",
     "text": [
      "        Type  OId  HId    D\n",
      "Event                      \n",
      "3      MATCH  1.0  1.0  0.2\n",
      "4       MISS  2.0  NaN  NaN\n"
     ]
    }
   ],
   "source": [
    "# 继续填充下一帧\n",
    "frameid = acc.update(\n",
    "    [1, 2],  # GT\n",
    "    [1],     # hypotheses\n",
    "    [\n",
    "        [0.2],\n",
    "        [0.4]\n",
    "    ]\n",
    ")\n",
    "print(acc.mot_events.loc[frameid])"
   ]
  },
  {
   "cell_type": "markdown",
   "metadata": {},
   "source": [
    "导入txt文件来创建accumulator并填充\n"
   ]
  },
  {
   "cell_type": "code",
   "execution_count": null,
   "metadata": {},
   "outputs": [],
   "source": [
    "gt_file=\"/path/gt.txt\"\n",
    "\"\"\"  文件格式如下\n",
    "1,0,1255,50,71,119,1,1,1\n",
    "2,0,1254,51,71,119,1,1,1\n",
    "3,0,1253,52,71,119,1,1,1\n",
    "...\n",
    "\"\"\"\n",
    "\n",
    "ts_file=\"/path/test.txt\"\n",
    "\"\"\"  文件格式如下\n",
    "1,1,1240.0,40.0,120.0,96.0,0.999998,-1,-1,-1\n",
    "2,1,1237.0,43.0,119.0,96.0,0.999998,-1,-1,-1\n",
    "3,1,1237.0,44.0,117.0,95.0,0.999998,-1,-1,-1\n",
    "...\n",
    "\"\"\"\n",
    "\n",
    "gt = mm.io.loadtxt(gt_file, fmt=\"mot15-2D\", min_confidence=1)  # 读入GT\n",
    "ts = mm.io.loadtxt(ts_file, fmt=\"mot15-2D\")  # 读入自己生成的跟踪结果\n",
    "\n",
    "acc=mm.utils.compare_to_groundtruth(gt, ts, 'iou', distth=0.5)  # 根据GT和自己的结果，生成accumulator，distth是距离阈值\n",
    "\n",
    "mh = mm.metrics.create()\n",
    "\n",
    "# 打印单个accumulator\n",
    "summary = mh.compute(acc,\n",
    "                     metrics=['num_frames', 'mota', 'motp'], # 一个list，里面装的是想打印的一些度量\n",
    "                     name='acc') # 起个名\n",
    "print(summary)\n",
    "\n",
    "# 打印多个accumulators\n",
    "summary = mh.compute_many([acc, acc.events.loc[0:1]], # 多个accumulators组成的list\n",
    "                          metrics=['num_frames', 'mota', 'motp'], \n",
    "                          name=['full', 'part']) # 起个名\n",
    "print(summary)\n",
    "\n",
    "# 自定义显示格式\n",
    "strsummary = mm.io.render_summary(\n",
    "    summary,\n",
    "    formatters={'mota' : '{:.2%}'.format},  # 将MOTA的格式改为百分数显示\n",
    "    namemap={'mota': 'MOTA', 'motp' : 'MOTP'}  # 将列名改为大写\n",
    ")\n",
    "print(strsummary)\n",
    "\n",
    "\n",
    "# mh模块中有内置的显示格式\n",
    "summary = mh.compute_many([acc, acc.events.loc[0:1]],\n",
    "                          metrics=mm.metrics.motchallenge_metrics,\n",
    "                          names=['full', 'part'])\n",
    "\n",
    "strsummary = mm.io.render_summary(\n",
    "    summary,\n",
    "    formatters=mh.formatters,\n",
    "    namemap=mm.io.motchallenge_metric_names\n",
    ")\n",
    "print(strsummary)"
   ]
  },
  {
   "cell_type": "code",
   "execution_count": null,
   "metadata": {},
   "outputs": [],
   "source": []
  }
 ],
 "metadata": {
  "kernelspec": {
   "display_name": "Python 3.7.13 ('pytorch')",
   "language": "python",
   "name": "python3"
  },
  "language_info": {
   "codemirror_mode": {
    "name": "ipython",
    "version": 3
   },
   "file_extension": ".py",
   "mimetype": "text/x-python",
   "name": "python",
   "nbconvert_exporter": "python",
   "pygments_lexer": "ipython3",
   "version": "3.7.13"
  },
  "orig_nbformat": 4,
  "vscode": {
   "interpreter": {
    "hash": "e800c98b159114f11c5dd0cb1d5b69ba10ae9793b2a0274b939f409feeb46a11"
   }
  }
 },
 "nbformat": 4,
 "nbformat_minor": 2
}
